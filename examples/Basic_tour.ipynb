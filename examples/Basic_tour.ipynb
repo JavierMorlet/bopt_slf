{
 "cells": [
  {
   "cell_type": "markdown",
   "metadata": {},
   "source": [
    "# Basic tour\n",
    "\n",
    "This notebook exemplifies the use of the library that implements Bayesian Optimization.\n",
    "\n",
    "The library requieres at least three parameters:\n",
    "\n",
    "* The cost function\n",
    "\n",
    "* The domain and type of the variables\n",
    "\n",
    "* The sense, which means if you want to minimize or maximize\n",
    "\n",
    "For this prupose, we will define a test function for optimization"
   ]
  },
  {
   "cell_type": "code",
   "execution_count": null,
   "metadata": {},
   "outputs": [],
   "source": [
    "# Import libraries\n",
    "import numpy as np\n",
    "import matplotlib.pyplot as plt\n",
    "from bopt_slf.core.main import BO\n",
    "from bopt_slf.utils.Plotting import Plot_AF, Plot_surrogate, Plot_regret"
   ]
  },
  {
   "cell_type": "markdown",
   "metadata": {},
   "source": [
    "Define the function.\n",
    "\n",
    "$\\sin(x) + \\sin(\\frac{2}{3} \\, x) + \\ln (x)$\n",
    "\n",
    "in the range $x \\in [2.5, 25]$\n",
    "\n",
    "The optimum is at $x^* = 0.445398$, and $f(x^*) = -5.17066$\n",
    "\n",
    "At least three inputs need to be specified to execute the optimization, a function, a domain, and a sense."
   ]
  },
  {
   "cell_type": "code",
   "execution_count": null,
   "metadata": {},
   "outputs": [],
   "source": [
    "#Test function\n",
    "def test_fun(x, a = 2/3):\n",
    "\n",
    "    x1 = x[:,0]\n",
    "    return np.sin(x1) + np.sin(a*x1) + np.log(x1)"
   ]
  },
  {
   "cell_type": "markdown",
   "metadata": {},
   "source": [
    "The bounds are defined as a list of dicts.\n",
    "\n",
    "For each variable, it should be defined a type and the domain. As optional a name can be added.\n",
    "The bounds are defined as a tuple."
   ]
  },
  {
   "cell_type": "code",
   "execution_count": null,
   "metadata": {},
   "outputs": [],
   "source": [
    "xl = 2.5\n",
    "xu = 25\n",
    "domain =[{'name': 'x', 'type': 'continuous', 'domain': (xl, xu)}]"
   ]
  },
  {
   "cell_type": "markdown",
   "metadata": {},
   "source": [
    "We can plot the test function"
   ]
  },
  {
   "cell_type": "code",
   "execution_count": null,
   "metadata": {},
   "outputs": [],
   "source": [
    "x_plot = np.linspace(xl, xu, 100).reshape(-1,1)\n",
    "plt.plot(x_plot, test_fun(x_plot))"
   ]
  },
  {
   "cell_type": "markdown",
   "metadata": {},
   "source": [
    "Run"
   ]
  },
  {
   "cell_type": "code",
   "execution_count": null,
   "metadata": {},
   "outputs": [],
   "source": [
    "res = BO(test_fun, domain = domain, sense = \"minimize\").optimize()"
   ]
  },
  {
   "cell_type": "markdown",
   "metadata": {},
   "source": [
    "The results are strored in res. \n",
    "It contains:\n",
    "\n",
    "* x_best: best parameters of the cost function, \n",
    "* f_best: best value of the cost function \n",
    "* x_init: initialization of the parameters, \n",
    "* f_init: value of the cost function during initialization, \n",
    "* x_iters: querry points during algorithm, \n",
    "* f_iters: value of the cost function during algorithm, \n",
    "* x_l: lower bounds of parameters, \n",
    "* x_u: upper bounds of parameters, \n",
    "* dims: dimension of the problem, \n",
    "* iters: number of iterations, \n",
    "* initial_design: what was the design for initialization of the parameters, \n",
    "* initial_points: number of points for the design, \n",
    "* xi: value of acquisition function hyperparameter, \n",
    "* acquisition_function: acquisition function employed, \n",
    "* regret: cummulattive regret, \n",
    "* constraint_method: method used for the constraints, \n",
    "* models_constraints: surrrogate model(s) for constraints, \n",
    "* model: surrrogate model for cost functioa"
   ]
  },
  {
   "cell_type": "code",
   "execution_count": null,
   "metadata": {},
   "outputs": [],
   "source": [
    "# Print best value found by the algorithm\n",
    "print('f(x^*):', res.f_best)\n",
    "print('x^*:  ', res.x_best)"
   ]
  },
  {
   "cell_type": "markdown",
   "metadata": {},
   "source": [
    "Plots"
   ]
  },
  {
   "cell_type": "code",
   "execution_count": null,
   "metadata": {},
   "outputs": [],
   "source": [
    "Plot_surrogate(res)"
   ]
  },
  {
   "cell_type": "code",
   "execution_count": null,
   "metadata": {},
   "outputs": [],
   "source": [
    "Plot_AF(res)"
   ]
  },
  {
   "cell_type": "code",
   "execution_count": null,
   "metadata": {},
   "outputs": [],
   "source": [
    "Plot_regret(res)"
   ]
  }
 ],
 "metadata": {
  "kernelspec": {
   "display_name": "Python 3 (ipykernel)",
   "language": "python",
   "name": "python3"
  },
  "language_info": {
   "codemirror_mode": {
    "name": "ipython",
    "version": 3
   },
   "file_extension": ".py",
   "mimetype": "text/x-python",
   "name": "python",
   "nbconvert_exporter": "python",
   "pygments_lexer": "ipython3",
   "version": "3.8.8"
  }
 },
 "nbformat": 4,
 "nbformat_minor": 4
}
